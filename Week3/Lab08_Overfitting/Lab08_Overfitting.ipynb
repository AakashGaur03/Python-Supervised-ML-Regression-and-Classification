{
 "cells": [
  {
   "cell_type": "markdown",
   "metadata": {},
   "source": [
    "# Overfitting\n",
    "Overfitting happens when a model learns the training data too well, including its noise and random fluctuations, rather than just the underlying patterns. As a result, the model performs very well on the training data but poorly on new, unseen data (low generalization).\n",
    "\n",
    "Signs of Overfitting:\n",
    "\n",
    "High accuracy on training data\n",
    "\n",
    "Low accuracy on validation/test data"
   ]
  },
  {
   "cell_type": "markdown",
   "metadata": {},
   "source": [
    "## Ways to reduce Overfitting\n",
    "<img src=\"./Lab08_01.png\">"
   ]
  },
  {
   "cell_type": "code",
   "execution_count": 1,
   "metadata": {},
   "outputs": [],
   "source": [
    "# %matplotlib widget\n",
    "# import matplotlib.pyplot as plt\n",
    "# from ipywidgets import Output\n",
    "# from plt_overfit import overfit_example, output\n",
    "# plt.style.use('./deeplearning.mplstyle')"
   ]
  },
  {
   "cell_type": "markdown",
   "metadata": {},
   "source": [
    "# Overfitting\n",
    "The week's lecture described situations where overfitting can arise. Run the cell below to generate a plot that will allow you to explore overfitting. There are further instructions below the cell."
   ]
  },
  {
   "cell_type": "code",
   "execution_count": 3,
   "metadata": {},
   "outputs": [],
   "source": [
    "# plt.close(\"all\")\n",
    "# display(output)\n",
    "# ofit = overfit_example(False)"
   ]
  },
  {
   "cell_type": "markdown",
   "metadata": {},
   "source": [
    "<img src=\"./Lab08_02.png\"/>"
   ]
  },
  {
   "cell_type": "markdown",
   "metadata": {},
   "source": [
    "<img src=\"./Lab08_03.png\"/>"
   ]
  },
  {
   "cell_type": "markdown",
   "metadata": {},
   "source": [
    "- Fit the data with degree = 1; Note 'underfitting'.\n",
    "- Fit the data with degree = 6; Note 'overfitting'\n",
    "- add data:\n",
    "    - extreme examples can increase overfitting (assuming they are outliers).\n",
    "    - nominal examples can reduce overfitting\n"
   ]
  },
  {
   "cell_type": "markdown",
   "metadata": {},
   "source": []
  }
 ],
 "metadata": {
  "kernelspec": {
   "display_name": "venv",
   "language": "python",
   "name": "python3"
  },
  "language_info": {
   "codemirror_mode": {
    "name": "ipython",
    "version": 3
   },
   "file_extension": ".py",
   "mimetype": "text/x-python",
   "name": "python",
   "nbconvert_exporter": "python",
   "pygments_lexer": "ipython3",
   "version": "3.13.3"
  }
 },
 "nbformat": 4,
 "nbformat_minor": 2
}
